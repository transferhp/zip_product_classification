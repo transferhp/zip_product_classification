{
 "cells": [
  {
   "cell_type": "code",
   "execution_count": 1,
   "metadata": {},
   "outputs": [],
   "source": [
    "from pprint import pprint\n",
    "from time import time\n",
    "import pathlib\n",
    "import pandas as pd\n",
    "\n",
    "\n",
    "import warnings\n",
    "warnings.filterwarnings(\"ignore\")\n",
    "\n",
    "from sklearn.pipeline import Pipeline\n",
    "from sklearn.feature_extraction.text import TfidfVectorizer\n",
    "from sklearn.linear_model import LogisticRegression\n",
    "from sklearn.model_selection import GridSearchCV"
   ]
  },
  {
   "cell_type": "code",
   "execution_count": 2,
   "metadata": {},
   "outputs": [
    {
     "name": "stdout",
     "output_type": "stream",
     "text": [
      "Logging info - Loading data from /Users/1150704/Documents/mywork/zip_product_classification/data\n"
     ]
    }
   ],
   "source": [
    "# Load pre-processed train and test data\n",
    "data_path = pathlib.Path().cwd().parent / \"data\"\n",
    "print(f\"Logging info - Loading data from {data_path}\")\n",
    "train_df = pd.read_csv(f\"{data_path}/train.csv\", keep_default_na=False)\n",
    "test_df = pd.read_csv(f\"{data_path}/test.csv\", keep_default_na=False)"
   ]
  },
  {
   "cell_type": "code",
   "execution_count": 3,
   "metadata": {},
   "outputs": [],
   "source": [
    "# build a pipeline \n",
    "pipeline = Pipeline([('vect', TfidfVectorizer(ngram_range=(1,3), stop_words='english', \n",
    "                                              sublinear_tf=True, max_features=50000, min_df=2)),\n",
    "                     ('clf', LogisticRegression(n_jobs=4, solver='lbfgs', \n",
    "                                                random_state=17, verbose=0, \n",
    "                                                multi_class='multinomial',\n",
    "                                                penalty=\"l2\", max_iter=1000,\n",
    "                                                fit_intercept=True))\n",
    "                    ])"
   ]
  },
  {
   "cell_type": "markdown",
   "metadata": {},
   "source": [
    "## Hyper-parameter tuning"
   ]
  },
  {
   "cell_type": "code",
   "execution_count": 4,

   "metadata": {},
   "outputs": [],
   "source": [
    "# Tune the weight that controls the strength of penalty (Smaller values specify stronger regularization)\n",
    "parameters = {\n",
    "    \"clf__C\": [0.5, 1, 10, 100] \n",
    "}"
   ]
  },
  {
   "cell_type": "code",
   "execution_count": 5,
   "metadata": {},
   "outputs": [
    {
     "name": "stdout",
     "output_type": "stream",
     "text": [
      "Logging info - Performing grid search\n",
      "parameters:\n",
      "{'clf__C': [0.5, 1, 10, 100]}\n",
      "Fitting 5 folds for each of 4 candidates, totalling 20 fits\n",
      "done in 1001.541s\n"
     ]
    }
   ],
   "source": [
    "grid_search = GridSearchCV(pipeline, parameters, n_jobs=-1, verbose=1, cv=5, scoring=\"accuracy\")\n",
    "\n",
    "print(\"Logging info - Performing grid search\")\n",
    "print(\"parameters:\")\n",
    "pprint(parameters)\n",
    "t0 = time()\n",
    "grid_search.fit(train_df[\"desc\"], train_df[\"cat0_cat1_cat2\"])\n",
    "print(\"done in %0.3fs\" % (time() - t0))"
   ]
  },
  {
   "cell_type": "code",
   "execution_count": 6,
   "metadata": {},
   "outputs": [
    {
     "name": "stdout",
     "output_type": "stream",
     "text": [
      "0.970541012216405\n",
      "{'clf__C': 100}\n"
     ]
    }
   ],
   "source": [
    "print(grid_search.best_score_)\n",
    "print(grid_search.best_params_)"
   ]
  },
  {
   "cell_type": "code",
   "execution_count": 7,
   "metadata": {},
   "outputs": [
    {
     "data": {
      "text/plain": [
       "{'mean_fit_time': array([396.01367183, 454.93509941, 624.29208021, 473.66431875]),\n",
       " 'std_fit_time': array([ 11.75480228,   8.9559064 ,   5.29120517, 132.66540977]),\n",
       " 'mean_score_time': array([9.54740748, 7.70492458, 5.2909636 , 2.76289558]),\n",
       " 'std_score_time': array([0.78533107, 0.67507471, 0.7762471 , 0.48931357]),\n",
       " 'param_clf__C': masked_array(data=[0.5, 1, 10, 100],\n",
       "              mask=[False, False, False, False],\n",
       "        fill_value='?',\n",
       "             dtype=object),\n",
       " 'params': [{'clf__C': 0.5}, {'clf__C': 1}, {'clf__C': 10}, {'clf__C': 100}],\n",
       " 'split0_test_score': array([0.95826477, 0.96355024, 0.97043131, 0.97137871]),\n",
       " 'split1_test_score': array([0.95646971, 0.9632012 , 0.97137871, 0.97172775]),\n",
       " 'split2_test_score': array([0.95771628, 0.96315133, 0.96993269, 0.96948392]),\n",
       " 'split3_test_score': array([0.95557218, 0.96085764, 0.97013214, 0.97023186]),\n",
       " 'split4_test_score': array([0.95761655, 0.96364996, 0.96993269, 0.96988282]),\n",
       " 'mean_test_score': array([0.9571279 , 0.96288207, 0.97036151, 0.97054101]),\n",
       " 'std_test_score': array([0.00097272, 0.00103041, 0.00054036, 0.00086675]),\n",
       " 'rank_test_score': array([4, 3, 2, 1], dtype=int32)}"
      ]
     },
     "execution_count": 7,
     "metadata": {},
     "output_type": "execute_result"
    }
   ],
   "source": [
    "grid_search.cv_results_"
   ]
  },
  {
   "cell_type": "code",
   "execution_count": null,
   "metadata": {},
   "outputs": [],
   "source": [
    "# May consider use MLflow to track hyper-parameter tuning process, \n",
    "# so that we can keep each result associated with corresponding parameters. "
   ]
  }
 ],
 "metadata": {
  "kernelspec": {
   "display_name": "Python 3 (ipykernel)",
   "language": "python",
   "name": "python3"
  },
  "language_info": {
   "codemirror_mode": {
    "name": "ipython",
    "version": 3
   },
   "file_extension": ".py",
   "mimetype": "text/x-python",
   "name": "python",
   "nbconvert_exporter": "python",
   "pygments_lexer": "ipython3",
   "version": "3.8.5"
  }
 },
 "nbformat": 4,
 "nbformat_minor": 4
}
