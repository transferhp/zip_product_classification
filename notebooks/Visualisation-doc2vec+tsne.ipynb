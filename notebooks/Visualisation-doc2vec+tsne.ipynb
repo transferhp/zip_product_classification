{
 "cells": [
  {
   "cell_type": "code",
   "execution_count": 1,
   "metadata": {},
   "outputs": [
    {
     "name": "stderr",
     "output_type": "stream",
     "text": [
      "/Users/1150704/.pyenv/versions/3.7.4/lib/python3.7/site-packages/pandas/compat/__init__.py:120: UserWarning: Could not import the lzma module. Your installed Python is incomplete. Attempting to use lzma compression will result in a RuntimeError.\n",
      "  warnings.warn(msg)\n"
     ]
    }
   ],
   "source": [
    "import pathlib\n",
    "import time\n",
    "import numpy as np\n",
    "import pandas as pd\n",
    "import matplotlib.pyplot as plt\n",
    "import seaborn as sns\n",
    "%matplotlib inline\n",
    "\n",
    "from gensim.models.doc2vec import Doc2Vec, TaggedDocument\n",
    "from sklearn.manifold import TSNE"
   ]
  },
  {
   "cell_type": "code",
   "execution_count": 10,
   "metadata": {},
   "outputs": [
    {
     "name": "stdout",
     "output_type": "stream",
     "text": [
      "Logging info - Loading data from /Users/1150704/Documents/mywork/zip_product_classification/data\n"
     ]
    }
   ],
   "source": [
    "# Load data\n",
    "data_path = pathlib.Path().cwd().parent / \"data\"\n",
    "print(f\"Logging info - Loading data from {data_path}\")\n",
    "df = pd.read_csv(f\"{data_path}/data.csv\", keep_default_na=False)"
   ]
  },
  {
   "cell_type": "code",
   "execution_count": 11,
   "metadata": {},
   "outputs": [
    {
     "data": {
      "text/plain": [
       "(125344, 8)"
      ]
     },
     "execution_count": 11,
     "metadata": {},
     "output_type": "execute_result"
    }
   ],
   "source": [
    "df.shape"
   ]
  },
  {
   "cell_type": "code",
   "execution_count": 4,
   "metadata": {},
   "outputs": [],
   "source": [
    "# Create new column that combines both product desc and name\n",
    "df[\"name_desc\"] = df[\"name\"] + \" \" + df[\"desc\"]"
   ]
  },
  {
   "cell_type": "code",
   "execution_count": 5,
   "metadata": {},
   "outputs": [],
   "source": [
    "#The Doc2Vec model takes 'tagged_documents'\n",
    "#tag the training data\n",
    "tagged_tr = [\n",
    "    TaggedDocument(\n",
    "        words=doc.split(),\n",
    "        tags=[str(i)]) for i, doc in enumerate(df[\"name_desc\"])\n",
    "]"
   ]
  },
  {
   "cell_type": "code",
   "execution_count": 9,
   "metadata": {},
   "outputs": [],
   "source": [
    "#Instantiate the model\n",
    "\n",
    "model = Doc2Vec(vector_size=100, \n",
    "                window=5, #change to 8\n",
    "                alpha=.025, #initial learning rate\n",
    "                min_alpha=0.00025, #learning rate drops linearly to this\n",
    "                min_count=2, #ignores all words with total frequency lower than this.\n",
    "                dm =1, #algorith 1=distributed memory\n",
    "                workers=8)#cores to use\n",
    "\n",
    "#build the vocab on the training data\n",
    "model.build_vocab(tagged_tr)"
   ]
  },
  {
   "cell_type": "code",
   "execution_count": 10,
   "metadata": {},
   "outputs": [
    {
     "name": "stdout",
     "output_type": "stream",
     "text": [
      "iteration 1\n",
      "iteration 2\n",
      "iteration 3\n",
      "iteration 4\n",
      "iteration 5\n",
      "iteration 6\n",
      "iteration 7\n",
      "iteration 8\n",
      "iteration 9\n",
      "iteration 10\n",
      "iteration 11\n",
      "iteration 12\n",
      "iteration 13\n",
      "iteration 14\n",
      "iteration 15\n",
      "iteration 16\n",
      "iteration 17\n",
      "iteration 18\n",
      "iteration 19\n",
      "iteration 20\n",
      "done!\n",
      "Time: 2145.6852819919586\n"
     ]
    }
   ],
   "source": [
    "#max training epochs\n",
    "max_epochs = 20\n",
    "\n",
    "#train n epochs and save the model\n",
    "t1 = time.time()\n",
    "for epoch in range(max_epochs):\n",
    "    print('iteration {0}'.format(epoch+1))\n",
    "    model.train(tagged_tr,\n",
    "                total_examples=model.corpus_count,\n",
    "                epochs=model.epochs)\n",
    "    # decrease the learning rate\n",
    "    model.alpha -= 0.0002\n",
    "    # fix the learning rate, no decay\n",
    "    model.min_alpha = model.alpha\n",
    "   \n",
    "   \n",
    "\n",
    "print(\"done!\")\n",
    "t2 = time.time()    \n",
    "model.save(\"zipdoc2vec.model\")\n",
    "#print(\"Model Saved\")\n",
    "print(\"Time: {}\".format(t2-t1))"
   ]
  },
  {
   "cell_type": "code",
   "execution_count": null,
   "metadata": {},
   "outputs": [],
   "source": [
    "# Extract vectors from doc2vec model\n",
    "X = np.array([model.docvecs[str(i)] for i in range(len(tagged_tr))])"
   ]
  },
  {
   "cell_type": "code",
   "execution_count": null,
   "metadata": {},
   "outputs": [],
   "source": [
    "tsne = TSNE(n_components=2, verbose=1, perplexity=40, n_iter=300)"
   ]
  },
  {
   "cell_type": "code",
   "execution_count": null,
   "metadata": {},
   "outputs": [],
   "source": [
    "tsne_results = tsne.fit_transform(X)"
   ]
  },
  {
   "cell_type": "code",
   "execution_count": null,
   "metadata": {},
   "outputs": [],
   "source": [
    "plt.figure(figsize=(16,10))\n",
    "sns.scatterplot(\n",
    "    x=tsne_results[:,0], y=tsne_results[:,1],\n",
    "    hue=df[\"cat0\"],\n",
    "    palette=sns.color_palette(\"hls\", 4),\n",
    "    data=tsne_results,\n",
    "    legend=\"full\",\n",
    "    alpha=0.3\n",
    ")"
   ]
  },
  {
   "cell_type": "code",
   "execution_count": null,
   "metadata": {},
   "outputs": [],
   "source": []
  }
 ],
 "metadata": {
  "kernelspec": {
   "display_name": "Python 3",
   "language": "python",
   "name": "python3"
  },
  "language_info": {
   "codemirror_mode": {
    "name": "ipython",
    "version": 3
   },
   "file_extension": ".py",
   "mimetype": "text/x-python",
   "name": "python",
   "nbconvert_exporter": "python",
   "pygments_lexer": "ipython3",
   "version": "3.7.4"
  }
 },
 "nbformat": 4,
 "nbformat_minor": 4
}
